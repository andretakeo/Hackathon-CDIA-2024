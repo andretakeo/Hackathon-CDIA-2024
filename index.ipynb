{
 "cells": [
  {
   "cell_type": "markdown",
   "metadata": {},
   "source": [
    "0. Importar bibliotecas"
   ]
  },
  {
   "cell_type": "code",
   "execution_count": null,
   "metadata": {},
   "outputs": [],
   "source": [
    "import pandas as pd\n",
    "import numpy as np\n",
    "import matplotlib.pyplot as plt\n",
    "import seaborn as sns\n",
    "import os\n",
    "import json\n",
    "import re"
   ]
  },
  {
   "cell_type": "markdown",
   "metadata": {},
   "source": [
    "1. Pegar todas as palavras chave dos textos"
   ]
  },
  {
   "cell_type": "code",
   "execution_count": 51,
   "metadata": {},
   "outputs": [],
   "source": [
    "STRING_PATH = \"data/strings-de-busca-ods/\""
   ]
  },
  {
   "cell_type": "code",
   "execution_count": 52,
   "metadata": {},
   "outputs": [],
   "source": [
    "def listar_arquivos(diretorio):\n",
    "    if not os.path.isdir(diretorio):\n",
    "        print(f\"O diretório '{diretorio}' não existe.\")\n",
    "        return []\n",
    "    return os.listdir(diretorio)\n",
    "\n",
    "# Carregar arquivos\n",
    "def carregar_arquivo_json(path, nome_arquivo):\n",
    "    with open(path + nome_arquivo, \"r\", encoding='utf-8') as arquivo:\n",
    "        return json.load(arquivo)\n",
    "    \n",
    "\n",
    "def write_json_file(data, file_path):\n",
    "    with open(file_path, 'w') as json_file:\n",
    "        json.dump(data, json_file, indent=4)\n",
    "\n"
   ]
  },
  {
   "cell_type": "code",
   "execution_count": 53,
   "metadata": {},
   "outputs": [],
   "source": [
    "# pegar_palavras_chave(carregar_arquvo_txt(\"ods02.txt\"))\n",
    "\n",
    "class Ods:\n",
    "    def __init__(self, path, ods_file):\n",
    "        self.ods_strings = self.carregar_arquivo_txt(path, ods_file)\n",
    "        self.ods_file = ods_file\n",
    "        self.keywords = self.pegar_palavras_chave()\n",
    "\n",
    "    def pegar_palavras_chave(self):\n",
    "        palavras_chave = re.findall(r'\\{(.*?)\\}', self.ods_strings)\n",
    "        return palavras_chave\n",
    "    \n",
    "    def dict_ods(self):\n",
    "        return {\"ods\": self.ods_file, \"keywords\": self.keywords}\n",
    "\n",
    "    def carregar_arquivo_txt(self, path, file_name):\n",
    "        with open(path + file_name, \"r\", encoding='utf-8') as arquivo:\n",
    "            return arquivo.read()"
   ]
  },
  {
   "cell_type": "code",
   "execution_count": 54,
   "metadata": {},
   "outputs": [],
   "source": [
    "\n",
    "result = []\n",
    "for file in listar_arquivos(STRING_PATH):\n",
    "    result.append(Ods(STRING_PATH, file).dict_ods())\n",
    "\n"
   ]
  },
  {
   "cell_type": "code",
   "execution_count": 55,
   "metadata": {},
   "outputs": [],
   "source": [
    "write_json_file(result, \"data/strings-de-busca-ods/ods_keywords.json\")"
   ]
  },
  {
   "cell_type": "code",
   "execution_count": 56,
   "metadata": {},
   "outputs": [
    {
     "data": {
      "text/html": [
       "<div>\n",
       "<style scoped>\n",
       "    .dataframe tbody tr th:only-of-type {\n",
       "        vertical-align: middle;\n",
       "    }\n",
       "\n",
       "    .dataframe tbody tr th {\n",
       "        vertical-align: top;\n",
       "    }\n",
       "\n",
       "    .dataframe thead th {\n",
       "        text-align: right;\n",
       "    }\n",
       "</style>\n",
       "<table border=\"1\" class=\"dataframe\">\n",
       "  <thead>\n",
       "    <tr style=\"text-align: right;\">\n",
       "      <th></th>\n",
       "      <th>ods</th>\n",
       "      <th>keywords</th>\n",
       "    </tr>\n",
       "  </thead>\n",
       "  <tbody>\n",
       "    <tr>\n",
       "      <th>0</th>\n",
       "      <td>ods01.txt</td>\n",
       "      <td>[extrema pobreza, alívio da pobreza, erradicaç...</td>\n",
       "    </tr>\n",
       "    <tr>\n",
       "      <th>1</th>\n",
       "      <td>ods02.txt</td>\n",
       "      <td>[direitos de posse da terra, produtor de alime...</td>\n",
       "    </tr>\n",
       "    <tr>\n",
       "      <th>2</th>\n",
       "      <td>ods03.txt</td>\n",
       "      <td>[síndrome da criança espancada, doença cardiov...</td>\n",
       "    </tr>\n",
       "    <tr>\n",
       "      <th>3</th>\n",
       "      <td>ods04.txt</td>\n",
       "      <td>[escola, educação, educacional, frequência esc...</td>\n",
       "    </tr>\n",
       "    <tr>\n",
       "      <th>4</th>\n",
       "      <td>ods05.txt</td>\n",
       "      <td>[desigualdade de gênero, igualdade de gênero, ...</td>\n",
       "    </tr>\n",
       "    <tr>\n",
       "      <th>5</th>\n",
       "      <td>ods06.txt</td>\n",
       "      <td>[seguro, acesso à água, água potável, limpa, á...</td>\n",
       "    </tr>\n",
       "    <tr>\n",
       "      <th>6</th>\n",
       "      <td>ods07.txt</td>\n",
       "      <td>[eficiência energética, consumo de energia, tr...</td>\n",
       "    </tr>\n",
       "    <tr>\n",
       "      <th>7</th>\n",
       "      <td>ods08.txt</td>\n",
       "      <td>[crescimento econômico, política de desenvolvi...</td>\n",
       "    </tr>\n",
       "    <tr>\n",
       "      <th>8</th>\n",
       "      <td>ods09.txt</td>\n",
       "      <td>[crescimento industrial, diversificação indust...</td>\n",
       "    </tr>\n",
       "    <tr>\n",
       "      <th>9</th>\n",
       "      <td>ods10.txt</td>\n",
       "      <td>[política de reforma econômica, políticas de r...</td>\n",
       "    </tr>\n",
       "    <tr>\n",
       "      <th>10</th>\n",
       "      <td>ods11.txt</td>\n",
       "      <td>[cidade, cidades, assentamento humano, assenta...</td>\n",
       "    </tr>\n",
       "    <tr>\n",
       "      <th>11</th>\n",
       "      <td>ods12.txt</td>\n",
       "      <td>[poluição ambiental, resíduos perigosos, produ...</td>\n",
       "    </tr>\n",
       "    <tr>\n",
       "      <th>12</th>\n",
       "      <td>ods13.txt</td>\n",
       "      <td>[ação climática, adaptação climática, mudança ...</td>\n",
       "    </tr>\n",
       "    <tr>\n",
       "      <th>13</th>\n",
       "      <td>ods14.txt</td>\n",
       "      <td>[marinho, oceano, oceanos, mar, mares, costa*,...</td>\n",
       "    </tr>\n",
       "    <tr>\n",
       "      <th>14</th>\n",
       "      <td>ods15.txt</td>\n",
       "      <td>[terrestre, terra, água doce, biodivers*, riqu...</td>\n",
       "    </tr>\n",
       "    <tr>\n",
       "      <th>15</th>\n",
       "      <td>ods16.txt</td>\n",
       "      <td>[inocência presumida, falsa confissão, conflit...</td>\n",
       "    </tr>\n",
       "    <tr>\n",
       "      <th>16</th>\n",
       "      <td>ods_keywords.json</td>\n",
       "      <td>[]</td>\n",
       "    </tr>\n",
       "  </tbody>\n",
       "</table>\n",
       "</div>"
      ],
      "text/plain": [
       "                  ods                                           keywords\n",
       "0           ods01.txt  [extrema pobreza, alívio da pobreza, erradicaç...\n",
       "1           ods02.txt  [direitos de posse da terra, produtor de alime...\n",
       "2           ods03.txt  [síndrome da criança espancada, doença cardiov...\n",
       "3           ods04.txt  [escola, educação, educacional, frequência esc...\n",
       "4           ods05.txt  [desigualdade de gênero, igualdade de gênero, ...\n",
       "5           ods06.txt  [seguro, acesso à água, água potável, limpa, á...\n",
       "6           ods07.txt  [eficiência energética, consumo de energia, tr...\n",
       "7           ods08.txt  [crescimento econômico, política de desenvolvi...\n",
       "8           ods09.txt  [crescimento industrial, diversificação indust...\n",
       "9           ods10.txt  [política de reforma econômica, políticas de r...\n",
       "10          ods11.txt  [cidade, cidades, assentamento humano, assenta...\n",
       "11          ods12.txt  [poluição ambiental, resíduos perigosos, produ...\n",
       "12          ods13.txt  [ação climática, adaptação climática, mudança ...\n",
       "13          ods14.txt  [marinho, oceano, oceanos, mar, mares, costa*,...\n",
       "14          ods15.txt  [terrestre, terra, água doce, biodivers*, riqu...\n",
       "15          ods16.txt  [inocência presumida, falsa confissão, conflit...\n",
       "16  ods_keywords.json                                                 []"
      ]
     },
     "execution_count": 56,
     "metadata": {},
     "output_type": "execute_result"
    }
   ],
   "source": [
    "pd.read_json(\"data/strings-de-busca-ods/ods_keywords.json\")"
   ]
  },
  {
   "cell_type": "markdown",
   "metadata": {},
   "source": [
    "2. Agora eu preciso buscar as palavras-chave nos textos do dataframe"
   ]
  },
  {
   "cell_type": "code",
   "execution_count": 57,
   "metadata": {},
   "outputs": [],
   "source": [
    "main_df = pd.read_csv(\"data/train_df.tsv\", sep=\"\\t\")"
   ]
  },
  {
   "cell_type": "code",
   "execution_count": 58,
   "metadata": {},
   "outputs": [
    {
     "data": {
      "text/html": [
       "<div>\n",
       "<style scoped>\n",
       "    .dataframe tbody tr th:only-of-type {\n",
       "        vertical-align: middle;\n",
       "    }\n",
       "\n",
       "    .dataframe tbody tr th {\n",
       "        vertical-align: top;\n",
       "    }\n",
       "\n",
       "    .dataframe thead th {\n",
       "        text-align: right;\n",
       "    }\n",
       "</style>\n",
       "<table border=\"1\" class=\"dataframe\">\n",
       "  <thead>\n",
       "    <tr style=\"text-align: right;\">\n",
       "      <th></th>\n",
       "      <th>data</th>\n",
       "      <th>uri</th>\n",
       "      <th>idioma</th>\n",
       "      <th>editor</th>\n",
       "      <th>programa</th>\n",
       "      <th>direito_acesso</th>\n",
       "      <th>departamento</th>\n",
       "      <th>area_cnpq</th>\n",
       "      <th>titulo</th>\n",
       "      <th>tipo</th>\n",
       "      <th>patrocinio</th>\n",
       "      <th>keywords</th>\n",
       "      <th>abstract</th>\n",
       "      <th>palavras_chave</th>\n",
       "      <th>resumo</th>\n",
       "    </tr>\n",
       "  </thead>\n",
       "  <tbody>\n",
       "    <tr>\n",
       "      <th>0</th>\n",
       "      <td>2022-03-29</td>\n",
       "      <td>https://repositorio.pucsp.br/jspui/handle/hand...</td>\n",
       "      <td>por</td>\n",
       "      <td>Pontifícia Universidade Católica de São Paulo</td>\n",
       "      <td>Programa de Estudos Pós-Graduados em Tecnologi...</td>\n",
       "      <td>Acesso Aberto</td>\n",
       "      <td>Faculdade de Ciências Exatas e Tecnologia</td>\n",
       "      <td>CNPQ::ENGENHARIAS</td>\n",
       "      <td>Transformação digital na contabilidade: as nov...</td>\n",
       "      <td>Dissertação</td>\n",
       "      <td>Coordenação de Aperfeiçoamento de Pessoal de N...</td>\n",
       "      <td>Technological innovation | Accounting | Accoun...</td>\n",
       "      <td>This research discusses the impact of digital ...</td>\n",
       "      <td>Inovação tecnológica | Contabilidade | Contado...</td>\n",
       "      <td>Esta pesquisa discute o impacto da transformaç...</td>\n",
       "    </tr>\n",
       "  </tbody>\n",
       "</table>\n",
       "</div>"
      ],
      "text/plain": [
       "         data                                                uri idioma  \\\n",
       "0  2022-03-29  https://repositorio.pucsp.br/jspui/handle/hand...    por   \n",
       "\n",
       "                                          editor  \\\n",
       "0  Pontifícia Universidade Católica de São Paulo   \n",
       "\n",
       "                                            programa direito_acesso  \\\n",
       "0  Programa de Estudos Pós-Graduados em Tecnologi...  Acesso Aberto   \n",
       "\n",
       "                                departamento          area_cnpq  \\\n",
       "0  Faculdade de Ciências Exatas e Tecnologia  CNPQ::ENGENHARIAS   \n",
       "\n",
       "                                              titulo         tipo  \\\n",
       "0  Transformação digital na contabilidade: as nov...  Dissertação   \n",
       "\n",
       "                                          patrocinio  \\\n",
       "0  Coordenação de Aperfeiçoamento de Pessoal de N...   \n",
       "\n",
       "                                            keywords  \\\n",
       "0  Technological innovation | Accounting | Accoun...   \n",
       "\n",
       "                                            abstract  \\\n",
       "0  This research discusses the impact of digital ...   \n",
       "\n",
       "                                      palavras_chave  \\\n",
       "0  Inovação tecnológica | Contabilidade | Contado...   \n",
       "\n",
       "                                              resumo  \n",
       "0  Esta pesquisa discute o impacto da transformaç...  "
      ]
     },
     "execution_count": 58,
     "metadata": {},
     "output_type": "execute_result"
    }
   ],
   "source": [
    "main_df.head(1)"
   ]
  },
  {
   "cell_type": "code",
   "execution_count": 59,
   "metadata": {},
   "outputs": [
    {
     "data": {
      "text/plain": [
       "array(['Faculdade de Ciências Exatas e Tecnologia', 'CNPQ::ENGENHARIAS',\n",
       "       'Transformação digital na contabilidade: as novas competências do contador',\n",
       "       'Inovação tecnológica | Contabilidade | Contador | Receita Federal | Economia | Direito Tributário',\n",
       "       'Esta pesquisa discute o impacto da transformação digital nos departamentos de contabilidade das corporações. Inicia-se com as possíveis causas que aceleraram a transformação digital nas corporações brasileiras. Nesse trajeto avalia a importância do impulso que as alterações da Secretaria da Receita Federal do Brasil produziram nessa evolução. Pela propensão interdisciplinar avalia as interferências da economia, da tecnologia e do direito nessas transformações. A ciência contábil é uma ciência humana, assim sendo o estudo se orienta nos efeitos que essas alterações produzem no papel desempenhado pelo contabilista. E avalia as novas competências que o contabilista necessita para exercer suas novas tarefas. Por fim, esboça os efeitos disruptivos que esse contabilista produz com suas novas armas no ambiente corporativo, mas não sem discutir a precariedade na sua luta pela qualificação'],\n",
       "      dtype=object)"
      ]
     },
     "execution_count": 59,
     "metadata": {},
     "output_type": "execute_result"
    }
   ],
   "source": [
    "# Selecionando as colunas de onde posso achas as palavras chave\n",
    "main_df[['departamento', 'area_cnpq','titulo','palavras_chave','resumo']].values[0]"
   ]
  },
  {
   "cell_type": "code",
   "execution_count": 60,
   "metadata": {},
   "outputs": [],
   "source": [
    "def formatar_strings(lista_strings):\n",
    "    # Juntar todas as strings da lista em uma única string\n",
    "    texto_completo = ' '.join(lista_strings)\n",
    "    # Remover caracteres não alfabéticos da língua portuguesa usando expressão regular\n",
    "    texto_formatado = re.sub(r'[^a-zA-ZáàâãéèêíïóôõöúçñÁÀÂÃÉÈÊÍÏÓÔÕÖÚÇÑ]', ' ', texto_completo)\n",
    "    texto_formatado = re.sub(r'\\s{2,}', ' ', texto_formatado)\n",
    "    return texto_formatado.lower()"
   ]
  },
  {
   "cell_type": "code",
   "execution_count": 61,
   "metadata": {},
   "outputs": [
    {
     "data": {
      "text/plain": [
       "'faculdade de ciências exatas e tecnologia cnpq engenharias transformação digital na contabilidade as novas competências do contador inovação tecnológica contabilidade contador receita federal economia direito tributário esta pesquisa discute o impacto da transformação digital nos departamentos de contabilidade das corporações inicia se com as possíveis causas que aceleraram a transformação digital nas corporações brasileiras nesse trajeto avalia a importância do impulso que as alterações da secretaria da receita federal do brasil produziram nessa evolução pela propensão interdisciplinar avalia as interferências da economia da tecnologia e do direito nessas transformações a ciência contábil é uma ciência humana assim sendo o estudo se orienta nos efeitos que essas alterações produzem no papel desempenhado pelo contabilista e avalia as novas competências que o contabilista necessita para exercer suas novas tarefas por fim esboça os efeitos disruptivos que esse contabilista produz com suas novas armas no ambiente corporativo mas não sem discutir a precariedade na sua luta pela qualificação'"
      ]
     },
     "execution_count": 61,
     "metadata": {},
     "output_type": "execute_result"
    }
   ],
   "source": [
    "formatar_strings(main_df[['departamento', 'area_cnpq','titulo','palavras_chave','resumo']].values[0])"
   ]
  },
  {
   "cell_type": "code",
   "execution_count": 62,
   "metadata": {},
   "outputs": [],
   "source": [
    "main_df['texto_formatado'] = main_df[['departamento', 'area_cnpq','titulo','palavras_chave','resumo']].apply(formatar_strings, axis=1)"
   ]
  },
  {
   "cell_type": "code",
   "execution_count": 63,
   "metadata": {},
   "outputs": [
    {
     "data": {
      "text/plain": [
       "'faculdade de ciências exatas e tecnologia cnpq engenharias transformação digital na contabilidade as novas competências do contador inovação tecnológica contabilidade contador receita federal economia direito tributário esta pesquisa discute o impacto da transformação digital nos departamentos de contabilidade das corporações inicia se com as possíveis causas que aceleraram a transformação digital nas corporações brasileiras nesse trajeto avalia a importância do impulso que as alterações da secretaria da receita federal do brasil produziram nessa evolução pela propensão interdisciplinar avalia as interferências da economia da tecnologia e do direito nessas transformações a ciência contábil é uma ciência humana assim sendo o estudo se orienta nos efeitos que essas alterações produzem no papel desempenhado pelo contabilista e avalia as novas competências que o contabilista necessita para exercer suas novas tarefas por fim esboça os efeitos disruptivos que esse contabilista produz com suas novas armas no ambiente corporativo mas não sem discutir a precariedade na sua luta pela qualificação'"
      ]
     },
     "execution_count": 63,
     "metadata": {},
     "output_type": "execute_result"
    }
   ],
   "source": [
    "main_df.texto_formatado[0]"
   ]
  },
  {
   "cell_type": "code",
   "execution_count": 64,
   "metadata": {},
   "outputs": [],
   "source": [
    "def find_matching_terms(ods, terms, text):\n",
    "    present_keywords = []\n",
    "    for term in terms:\n",
    "        if term in text:\n",
    "            present_keywords.append(term)\n",
    "    return {\"ods\": ods, \"present_keywords\": present_keywords}\n",
    "\n",
    "def find_all_matching_terms(text):\n",
    "    return [find_matching_terms(i, result[i]['keywords'], text) for i in range(1, 17)]\n"
   ]
  },
  {
   "cell_type": "code",
   "execution_count": 65,
   "metadata": {},
   "outputs": [],
   "source": [
    "main_df['matching_terms'] = main_df.texto_formatado.apply(find_all_matching_terms)"
   ]
  },
  {
   "cell_type": "code",
   "execution_count": 66,
   "metadata": {},
   "outputs": [
    {
     "data": {
      "text/plain": [
       "[{'ods': 1, 'present_keywords': []},\n",
       " {'ods': 2, 'present_keywords': []},\n",
       " {'ods': 3, 'present_keywords': []},\n",
       " {'ods': 4, 'present_keywords': []},\n",
       " {'ods': 5, 'present_keywords': []},\n",
       " {'ods': 6, 'present_keywords': []},\n",
       " {'ods': 7, 'present_keywords': []},\n",
       " {'ods': 8, 'present_keywords': []},\n",
       " {'ods': 9, 'present_keywords': []},\n",
       " {'ods': 10, 'present_keywords': ['cidade']},\n",
       " {'ods': 11, 'present_keywords': []},\n",
       " {'ods': 12, 'present_keywords': []},\n",
       " {'ods': 13, 'present_keywords': []},\n",
       " {'ods': 14, 'present_keywords': []},\n",
       " {'ods': 15, 'present_keywords': ['sociedade']},\n",
       " {'ods': 16, 'present_keywords': []}]"
      ]
     },
     "execution_count": 66,
     "metadata": {},
     "output_type": "execute_result"
    }
   ],
   "source": [
    "main_df.matching_terms[3]"
   ]
  },
  {
   "cell_type": "code",
   "execution_count": 67,
   "metadata": {},
   "outputs": [],
   "source": [
    "main_df.to_csv('main_df.csv', index=False)"
   ]
  },
  {
   "cell_type": "code",
   "execution_count": null,
   "metadata": {},
   "outputs": [],
   "source": []
  }
 ],
 "metadata": {
  "kernelspec": {
   "display_name": "Default",
   "language": "python",
   "name": "python3"
  },
  "language_info": {
   "codemirror_mode": {
    "name": "ipython",
    "version": 3
   },
   "file_extension": ".py",
   "mimetype": "text/x-python",
   "name": "python",
   "nbconvert_exporter": "python",
   "pygments_lexer": "ipython3",
   "version": "3.12.0rc1"
  }
 },
 "nbformat": 4,
 "nbformat_minor": 2
}
